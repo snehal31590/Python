{
 "cells": [
  {
   "cell_type": "markdown",
   "metadata": {},
   "source": [
    "Module_1 Lab | Statistical Computing | BANA 6043"
   ]
  },
  {
   "cell_type": "markdown",
   "metadata": {},
   "source": [
    "Question 1: BMI\n",
    "Given the equation for calculating Body Mass Index (BMI) is:\n",
    "Say an individual weighs 150 lbs and is 68 inches tall. What is their BMI?\n",
    "𝐵𝑀𝐼 =\n",
    "weight in pounds × 703\n",
    "height in inches2\n",
    "wt\n",
    "=\n",
    "___\n",
    "ht\n",
    "=\n",
    "___\n",
    "bmi\n",
    "=\n",
    "______"
   ]
  },
  {
   "cell_type": "code",
   "execution_count": 32,
   "metadata": {},
   "outputs": [
    {
     "data": {
      "text/plain": [
       "22.8"
      ]
     },
     "execution_count": 32,
     "metadata": {},
     "output_type": "execute_result"
    }
   ],
   "source": [
    "wt = 150\n",
    "ht = 68\n",
    "\n",
    "bmi = (wt * 703)/ ht**2\n",
    "bmi\n",
    "# 22.80493079584775\n",
    "round(bmi,1)\n",
    "\n"
   ]
  },
  {
   "cell_type": "markdown",
   "metadata": {},
   "source": [
    "Question 2: Math Library\n",
    "1.Import the math library.\n",
    "2.Find a function within the math library that will compute the square root of 14 × 0.51\n",
    "3.Find a function with the math library that will compute 3.25 ^ 2.784\n",
    "Now compute this with a simple math operator provided by standard Python.\n"
   ]
  },
  {
   "cell_type": "code",
   "execution_count": 33,
   "metadata": {},
   "outputs": [
    {
     "name": "stdout",
     "output_type": "stream",
     "text": [
      "2.67\n"
     ]
    },
    {
     "data": {
      "text/plain": [
       "26.61235308864194"
      ]
     },
     "execution_count": 33,
     "metadata": {},
     "output_type": "execute_result"
    }
   ],
   "source": [
    "# 1.\n",
    "import math\n",
    "\n",
    "# 2.\n",
    "a = 14 * 0.51\n",
    "b = math.sqrt(a)\n",
    "print(round(b,2))\n",
    "# 2.6720778431774774\n",
    "\n",
    "\n",
    "\n",
    "# 3.\n",
    "import random\n",
    "\n",
    "c =  3.25 ** 2.784\n",
    "c\n",
    "#d = round(26.61235308864194,4)\n",
    "#d\n"
   ]
  },
  {
   "cell_type": "markdown",
   "metadata": {},
   "source": [
    "Question 3: Cost of Pizza\n",
    "Say you have a 12” diameter pizza. And given the area of a circle is , compute the area of\n",
    "the pizza and assign that value to the variable area . Now say the cost of the pizza was $8. Compute the cost\n",
    "per square inch of this pizza. **Hint**: the `math` library contains a `pi` object to use as .\n",
    "𝐴 = 𝜋(diameter/2)2\n",
    "𝜋\n",
    "Now say you have the option to buy the above pizza or a 15\" pizza that costs $12. Which is a better deal?"
   ]
  },
  {
   "cell_type": "code",
   "execution_count": 34,
   "metadata": {},
   "outputs": [
    {
     "name": "stdout",
     "output_type": "stream",
     "text": [
      "Pizza that costs $8 0.0707355302630646\n",
      "Pizza that costs $12 0.06790610905254202\n"
     ]
    }
   ],
   "source": [
    "import math as M\n",
    "pizza = 12\n",
    "area = math.pi * ((pizza/2)**2)\n",
    "area\n",
    "area_1 =8/area\n",
    "print(\"Pizza that costs $8\" ,area_1)\n",
    "\n",
    "\n",
    "2.\n",
    "pizza_1 = 15\n",
    "area_2 = math.pi * ((pizza_1/2)**2)\n",
    "area_2\n",
    "area_3 =12/area_2\n",
    "print(\"Pizza that costs $12\", area_3)"
   ]
  },
  {
   "cell_type": "markdown",
   "metadata": {},
   "source": [
    "Question 4: Conditional Statements and Snakes\n",
    "Given the variable language which contains a string, use if/elif/else to write a program that:\n",
    "returns “I love snakes!” if language is \"python\" (any kind of capitalization)\n",
    "returns “Are you a pirate?” if language is \"R\" (any kind of capitalization)\n",
    "returns “What is language?” if language is anything else."
   ]
  },
  {
   "cell_type": "code",
   "execution_count": 35,
   "metadata": {},
   "outputs": [
    {
     "name": "stdout",
     "output_type": "stream",
     "text": [
      "I love snakes!\n",
      "Are you a pirate?\n",
      "What is language?\n"
     ]
    }
   ],
   "source": [
    "language = \"python\"\n",
    "\n",
    "if language == \"python\":\n",
    "    print(\"I love snakes!\")\n",
    "elif language ==\"R\":\n",
    "    print(\"Are you a pirate?\")\n",
    "else:\n",
    "    print(\"What is language?\")\n",
    "\n",
    "\n",
    "language = \"R\"\n",
    "\n",
    "if language == \"python\":\n",
    "    print(\"I love snakes!\")\n",
    "elif language ==\"R\":\n",
    "    print(\"Are you a pirate?\")\n",
    "else:\n",
    "    print(\"What is language?\")\n",
    "\n",
    "\n",
    "language = \"xyz\"\n",
    "\n",
    "if language == \"python\":\n",
    "    print(\"I love snakes!\")\n",
    "elif language ==\"R\":\n",
    "    print(\"Are you a pirate?\")\n",
    "else:\n",
    "    print(\"What is language?\")"
   ]
  },
  {
   "cell_type": "markdown",
   "metadata": {},
   "source": [
    "Question 5: Analyzing a Vector of Weights\n",
    "1. Create a list called weight containing the weight (in kg) of 10 children: 69, 62, 57, 59, 59, 64, 56, 66, 67, 66.\n",
    "2. Try and convert these weights to pounds using (1kg = 2.20462lbs). If you try weight * 2.20462 what\n",
    "results?\n",
    "3. Import the numpy library and use the alias np .\n",
    "4. Now convert weight to an array with np.array() .\n",
    "5. Now try and convert the array of weights to pounds using weight * 2.20462 what results?\n",
    "6. Use numpy functions to compute the mean and standard deviation of the weights in pounds.\n",
    "7. How many children weigh more than the average?"
   ]
  },
  {
   "cell_type": "code",
   "execution_count": 36,
   "metadata": {},
   "outputs": [
    {
     "name": "stdout",
     "output_type": "stream",
     "text": [
      "[69, 62, 57, 59, 59, 64, 56, 66, 67, 66]\n",
      "[152.11878, 136.68643999999998, 125.66333999999999, 130.07258, 130.07258, 141.09568, 123.45871999999999, 145.50492, 147.70953999999998, 145.50492]\n",
      "137.78875\n",
      "9.520793836285922\n",
      "62.5\n",
      "Children weigh more than the average are  5\n"
     ]
    }
   ],
   "source": [
    "import numpy as np\n",
    "weight = [69, 62, 57, 59, 59, 64, 56, 66, 67, 66]\n",
    "print(weight)\n",
    "# Converting weights to Pounds\n",
    "new_weight = []\n",
    "for weights in weight:\n",
    "    new_weight.append(weights* 2.20462)\n",
    "print(new_weight)\n",
    "\n",
    "type(new_weight)\n",
    "\n",
    "import numpy as np\n",
    "\n",
    "\n",
    "conv_new_weight = np.array(weight)\n",
    "conv_new_weight\n",
    "\n",
    "an_array = np.array(conv_new_weight)\n",
    "conv_new_weight_1 = an_array *2.20462\n",
    "conv_new_weight_1\n",
    "\n",
    "# Mean and Standard deviation of weights in Pounds\n",
    "\n",
    "mean_weight_1 = np.mean(new_weight)\n",
    "print(mean_weight_1)\n",
    "\n",
    "std_dev_1 = np.std(new_weight)\n",
    "print(std_dev_1)\n",
    "\n",
    "# Average and Children weigh more than the average\n",
    "average_weight_1 = np.average(weight)\n",
    "print(average_weight_1)\n",
    "\n",
    "count = len([elem for elem in new_weight if elem > mean_weight_1])\n",
    "print('Children weigh more than the average are ', count)\n",
    "    "
   ]
  },
  {
   "cell_type": "markdown",
   "metadata": {},
   "source": [
    "Question 6: Back to BMI\n",
    "Say we have the following height (in inches) for our 10 children: 62, 58, 61, 61, 59, 64, 63, 61, 60, 62. Use the\n",
    "weights from the last execise and these height values to compute the BMI for each child. What is the average\n",
    "BMI across all the children?"
   ]
  },
  {
   "cell_type": "code",
   "execution_count": 37,
   "metadata": {},
   "outputs": [
    {
     "name": "stdout",
     "output_type": "stream",
     "text": [
      "[27.819849724245575, 28.564377919143872, 23.74128675624832, 24.574314361730714, 26.268607796610166, 24.216372812499998, 21.86734194003527, 27.489910980919106, 28.844390727777775, 26.610291040582723]\n",
      "25.999674405979352\n"
     ]
    }
   ],
   "source": [
    "import numpy as np\n",
    "height = [62, 58, 61, 61, 59, 64, 63, 61, 60, 62]\n",
    "new_weight = [152.11878, 136.68643999999998, 125.66333999999999, 130.07258, 130.07258, 141.09568, 123.45871999999999, 145.50492, 147.70953999999998, 145.50492]\n",
    "new_height= [number ** 2 for number in height]\n",
    "new_height\n",
    "\n",
    "new_weight_11 = [number * 703 for number in new_weight]\n",
    "new_weight_11\n",
    "\n",
    "BMI = [i/j for i,j in zip(new_weight_11,new_height)]\n",
    "print(BMI)\n",
    "\n",
    "new_BMI_1 = np.mean(BMI)\n",
    "print(new_BMI_1)\n",
    "\n"
   ]
  },
  {
   "cell_type": "markdown",
   "metadata": {},
   "source": [
    "Question 7: Nested Dictionary\n",
    "Given this nest dictionary, extract the element containing the word “BANA”\n",
    "In [1]: d = {\n",
    "\"a_list\": [1, 2, 3,],\n",
    "\"a_dict\": {\"first\": [\"this\", \"is\", \"inception\"],\n",
    "\"second\": [1, 2, 3, \"BANA\"]}\n",
    "}"
   ]
  },
  {
   "cell_type": "code",
   "execution_count": 38,
   "metadata": {},
   "outputs": [
    {
     "name": "stdout",
     "output_type": "stream",
     "text": [
      "BANA\n",
      "BANA\n"
     ]
    }
   ],
   "source": [
    "d = {\n",
    "\"a_list\": [1, 2, 3,],\n",
    "\"a_dict\": {\"first\": [\"this\", \"is\", \"inception\"],\n",
    "\"second\": [1, 2, 3, \"BANA\"]}\n",
    "}\n",
    "d\n",
    "\n",
    "one = d['a_dict']['second'][3]\n",
    "print(one)\n",
    "\n",
    "two = d[\"a_dict\"][\"second\"][-1]\n",
    "print(two)"
   ]
  },
  {
   "cell_type": "markdown",
   "metadata": {},
   "source": [
    "Question 8: Sorting Arrays\n",
    "Lets create 20 random integers where the values are randomly created from the value range of 50-100. We'll say\n",
    "these random integers represent the weight of 20 children. We'll use numpy to generate these numbers. Be\n",
    "sure to use seed(123) so we get the same results.\n",
    "\n",
    "In [2]: # random generating functions\n",
    "from numpy.random import seed\n",
    "from numpy.random import randint\n",
    "# seed random number generator\n",
    "seed(123)\n",
    "# generate 20 random numbers between 50-100\n",
    "weights = randint(low=50, high=100, size=20)\n",
    "\n",
    "Identify the weights of the three children that have the lightest weight values. Hint: figure out how to sort these\n",
    "values in ascending order and index the first three values."
   ]
  },
  {
   "cell_type": "code",
   "execution_count": 39,
   "metadata": {},
   "outputs": [
    {
     "name": "stdout",
     "output_type": "stream",
     "text": [
      "[95 52 78 84 88 67 69 92 72 83 82 99 97 59 82 96 82 97 75 69]\n",
      "[52 59 67 69 69 72 75 78 82 82 82 83 84 88 92 95 96 97 97 99]\n"
     ]
    },
    {
     "data": {
      "text/plain": [
       "array([52, 59, 67])"
      ]
     },
     "execution_count": 39,
     "metadata": {},
     "output_type": "execute_result"
    }
   ],
   "source": [
    "import numpy as np\n",
    "from numpy.random import seed\n",
    "from numpy.random import randint\n",
    "# seed random number generator\n",
    "seed(123)\n",
    "# generate 20 random numbers between 50-100\n",
    "weights = randint(low=50, high=100, size=20)\n",
    "print(weights)\n",
    "\n",
    "sorted_array_new = np.sort(weights)\n",
    "print(sorted_array_new)\n",
    "sorted_array_new[0:3]\n",
    "\n"
   ]
  },
  {
   "cell_type": "markdown",
   "metadata": {},
   "source": [
    "Question 9: The Zen of Python\n",
    "\n",
    "Run the following code. Read and embrace this mantra throughout this class and your Python code-writing\n",
    "lives!\n",
    "import this"
   ]
  },
  {
   "cell_type": "code",
   "execution_count": 43,
   "metadata": {},
   "outputs": [],
   "source": [
    "import this"
   ]
  },
  {
   "cell_type": "markdown",
   "metadata": {},
   "source": [
    "# Adding the o/p as markdown because I wasn't able to run this again and agin.\n",
    ">>> import this\n",
    "The Zen of Python, by Tim Peters\n",
    "\n",
    "Beautiful is better than ugly.\n",
    "Explicit is better than implicit.\n",
    "Simple is better than complex.\n",
    "Complex is better than complicated.\n",
    "Flat is better than nested.\n",
    "Sparse is better than dense.\n",
    "Readability counts.\n",
    "Special cases aren't special enough to break the rules.\n",
    "Although practicality beats purity.\n",
    "Errors should never pass silently.\n",
    "Unless explicitly silenced.\n",
    "In the face of ambiguity, refuse the temptation to guess.\n",
    "There should be one-- and preferably only one --obvious way to do it.\n",
    "Although that way may not be obvious at first unless you're Dutch.\n",
    "Now is better than never.\n",
    "Although never is often better than *right* now.\n",
    "If the implementation is hard to explain, it's a bad idea.\n",
    "If the implementation is easy to explain, it may be a good idea.\n",
    "Namespaces are one honking great idea -- let's do more of those!"
   ]
  }
 ],
 "metadata": {
  "kernelspec": {
   "display_name": "Python 3.10.8 64-bit",
   "language": "python",
   "name": "python3"
  },
  "language_info": {
   "codemirror_mode": {
    "name": "ipython",
    "version": 3
   },
   "file_extension": ".py",
   "mimetype": "text/x-python",
   "name": "python",
   "nbconvert_exporter": "python",
   "pygments_lexer": "ipython3",
   "version": "3.10.8"
  },
  "orig_nbformat": 4,
  "vscode": {
   "interpreter": {
    "hash": "c7af7df4901773a0e355da496bf365ae011b1b331a57bbc9908dae1ee21823d7"
   }
  }
 },
 "nbformat": 4,
 "nbformat_minor": 2
}
