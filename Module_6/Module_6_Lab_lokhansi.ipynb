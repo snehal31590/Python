{
 "cells": [
  {
   "cell_type": "markdown",
   "metadata": {},
   "source": [
    "## Module 6 Lab"
   ]
  },
  {
   "cell_type": "markdown",
   "metadata": {},
   "source": [
    "### Exercise 1\n",
    "Iterate over each of the Month-XX.csv files using a list comprehension or for loop and (i) import the data as a\n",
    "DataFrame and (ii) compute the total number of observations in each DataFrame. Which DataFrame has the\n",
    "most observations? Which has the least?"
   ]
  },
  {
   "cell_type": "code",
   "execution_count": 4,
   "metadata": {},
   "outputs": [
    {
     "name": "stdout",
     "output_type": "stream",
     "text": [
      "Dataframe with most observation is the one with Month-11 (94315, 10)\n",
      "Dataframe with least observation is the one with Month-02 (44380, 10)\n"
     ]
    }
   ],
   "source": [
    "import pandas as pd\n",
    "import numpy as np\n",
    "\n",
    "list_of_month = ['Month-01','Month-02','Month-03','Month-04','Month-05','Month-06','Month-07','Month-08','Month-09','Month-10','Month-11']\n",
    "\n",
    "dataframes_list = []\n",
    "\n",
    "for i in range(len(list_of_month)):\n",
    "    temp_dataframe = pd.read_csv(\"C:/Users/dell/OneDrive/Documents/Study_Fall_2022/Statistical_Computing/Module_6/monthly_data/\" +list_of_month[i]+ \".csv\")\n",
    "    dataframes_list.append(temp_dataframe)\n",
    "\n",
    "\n",
    "# [54535 rows x 10 columns] [44380 rows x 10 columns]\n",
    "# [53259 rows x 10 columns] [51033 rows x 10 columns]\n",
    "# [55079 rows x 10 columns] [59666 rows x 10 columns]\n",
    "# [64268 rows x 10 columns] [69492 rows x 10 columns] \n",
    "# [71855 rows x 10 columns] [80277 rows x 10 columns]                       \n",
    "# [94315 rows x 10 columns]\n",
    "dataframes_list[10]  #  495150\n",
    "\n",
    "print(\"Dataframe with most observation is the one with Month-11\" , dataframes_list[10].shape)\n",
    "\n",
    "print(\"Dataframe with least observation is the one with Month-02\" , dataframes_list[1].shape)"
   ]
  },
  {
   "cell_type": "markdown",
   "metadata": {},
   "source": [
    "### Exercise 2\n",
    "Import the Month-XX.csv files into your current Python session. Do so using a for loop or list\n",
    "comprehension. Rather than have 11 separate data frames (one for each month), combine these so that you\n",
    "have one data frame containing all the data. Your final data frame should have 698,159 rows and 10 columns.\n",
    "What is the Account_ID value for the very last transaction in this combined DataFrame? Note, the last\n",
    "transaction in the combined DataFrame should be the last transaction in the Month-11.csv data set."
   ]
  },
  {
   "cell_type": "code",
   "execution_count": 6,
   "metadata": {},
   "outputs": [
    {
     "name": "stdout",
     "output_type": "stream",
     "text": [
      "Imported data as a data frame (698159, 10)\n",
      "        Account_ID Transaction_Timestamp  Factor_A  Factor_B Factor_C  \\\n",
      "0                5  2009-01-08T00:16:41Z         2         6       VI   \n",
      "1               16  2009-01-20T22:40:08Z         2         6       VI   \n",
      "2               28  2009-01-19T13:24:55Z         2         6       VI   \n",
      "3               40  2009-01-05T16:10:58Z         2         6       VI   \n",
      "4               62  2009-01-21T19:13:13Z         2         6       VI   \n",
      "...            ...                   ...       ...       ...      ...   \n",
      "698154      495134  2009-11-30T23:55:08Z         2         6       VI   \n",
      "698155      495135  2009-11-30T23:57:00Z         7        15       MC   \n",
      "698156      495136  2009-11-30T23:57:33Z         2         6       VI   \n",
      "698157      495137  2009-11-30T23:57:39Z         7        15       MC   \n",
      "698158      495150  2009-11-30T23:58:32Z         2         6       VI   \n",
      "\n",
      "        Factor_D Factor_E  Response Transaction_Status Month  \n",
      "0             20        A      1020           Approved   Jan  \n",
      "1             20        H      1020           Approved   Jan  \n",
      "2             21      NaN      1020           Approved   Jan  \n",
      "3             20        H      1020           Approved   Jan  \n",
      "4             20        B      1020           Approved   Jan  \n",
      "...          ...      ...       ...                ...   ...  \n",
      "698154        20        D      1020           Approved   Nov  \n",
      "698155        20      MCW      1020           Approved   Nov  \n",
      "698156        21        A      1020           Approved   Nov  \n",
      "698157        35      MPL      1020           Approved   Nov  \n",
      "698158        20        B      1020           Approved   Nov  \n",
      "\n",
      "[698159 rows x 10 columns]\n",
      "the Account_ID value for the very last transaction in this combined DataFrame is 495150\n"
     ]
    }
   ],
   "source": [
    "import pandas as pd \n",
    "import glob\n",
    "\n",
    "\n",
    "path = 'C:/Users/dell/OneDrive/Documents/Study_Fall_2022/Statistical_Computing/Module_6/monthly_data'\n",
    "\n",
    "csv_files = glob.glob(path + \"/*.csv\")\n",
    "\n",
    "month_df = (pd.read_csv(file) for file in csv_files)\n",
    "month_df\n",
    "\n",
    "month_df_comp = pd.concat(month_df,ignore_index=True)\n",
    "print(\"Imported data as a data frame\", month_df_comp.shape)\n",
    "print(month_df_comp)\n",
    "\n",
    "type(month_df_comp)\n",
    "month_df_comp\n",
    "\n",
    "ls = month_df_comp.iloc[-1]['Account_ID']\n",
    "print(\"the Account_ID value for the very last transaction in this combined DataFrame is\",ls)\n"
   ]
  },
  {
   "cell_type": "markdown",
   "metadata": {},
   "source": [
    "### Exercise 3\n",
    "How many unique values exist in each column?"
   ]
  },
  {
   "cell_type": "code",
   "execution_count": 5,
   "metadata": {},
   "outputs": [
    {
     "name": "stdout",
     "output_type": "stream",
     "text": [
      "The unique values in each column are\n",
      "Account_ID               475413\n",
      "Transaction_Timestamp    686538\n",
      "Factor_A                      7\n",
      "Factor_B                      6\n",
      "Factor_C                      4\n",
      "Factor_D                     15\n",
      "Factor_E                     62\n",
      "Response                     42\n",
      "Transaction_Status            2\n",
      "Month                        11\n",
      "dtype: int64\n"
     ]
    }
   ],
   "source": [
    "month_df_comp.columns\n",
    "\n",
    "unique_values_each_column = month_df_comp.nunique()\n",
    "print(\"The unique values in each column are\")\n",
    "print(unique_values_each_column)"
   ]
  },
  {
   "cell_type": "markdown",
   "metadata": {},
   "source": [
    "### Exercise 4\n",
    "Create a function convert_to_qtr() that converts monthly values to quarters. This function should assess\n",
    "a month value (“Jan”, “Feb”, ... , “Dec”) and convert to “Q1”, “Q2”, “Q3”, or “Q4”. Do it such that:\n",
    "If the month input is Jan-Mar, then the function returns “Q1”\n",
    "If the month input is Apr-Jun, then the function returns “Q2”\n",
    "If the month input is Jul-Sep, then the function returns “Q3”\n",
    "If the month input is Oct-Dec, then the function returns “Q4”\n",
    "Apply this function to the imported data (note the Month column contains month values in the form of “Jan”,\n",
    "“Feb”, ... , “Dec”) and create a new column that contains the quarter that each observation is aligned to.\n",
    "Compute how many observations fall into each quarter."
   ]
  },
  {
   "cell_type": "code",
   "execution_count": 9,
   "metadata": {},
   "outputs": [
    {
     "name": "stdout",
     "output_type": "stream",
     "text": [
      "The observations that fall into each quarter are\n",
      "0         Q1\n",
      "1         Q1\n",
      "2         Q1\n",
      "3         Q1\n",
      "4         Q1\n",
      "          ..\n",
      "698154    Q4\n",
      "698155    Q4\n",
      "698156    Q4\n",
      "698157    Q4\n",
      "698158    Q4\n",
      "Name: quarter, Length: 698159, dtype: object\n",
      "Q3    205615\n",
      "Q4    174592\n",
      "Q2    165778\n",
      "Q1    152174\n",
      "Name: quarter, dtype: int64\n"
     ]
    }
   ],
   "source": [
    "import os\n",
    "import glob\n",
    "def convert_to_qtr(row):\n",
    "    if row=='Jan' or row== 'Feb' or row=='Mar':\n",
    "        result = 'Q1'\n",
    "        return result\n",
    "    elif row=='Apr' or row== 'May' or row=='Jun':\n",
    "        result = 'Q2'\n",
    "        return result\n",
    "    elif row=='Jul' or row== 'Aug' or row=='Sep':\n",
    "        result = 'Q3'\n",
    "        return result\n",
    "    elif row=='Oct' or row== 'Nov' or row=='Dec':\n",
    "        result = 'Q4'\n",
    "        return result\n",
    "\n",
    "\n",
    "month_df_comp['quarter'] = month_df_comp['Month'].apply(convert_to_qtr)\n",
    "month_df_comp['quarter']\n",
    "\n",
    "print(\"The observations that fall into each quarter are\")\n",
    "print(month_df_comp['quarter'])\n",
    "\n",
    "df_2 = month_df_comp.groupby(['quarter']).count()\n",
    "print(df_2)\n",
    "\n",
    "\n",
    "print(month_df_comp['quarter'].value_counts())"
   ]
  },
  {
   "cell_type": "markdown",
   "metadata": {},
   "source": [
    "### Exercise 5\n",
    "Import the Month-XX.csv files into your current Python session. Do so using a for loop or list\n",
    "comprehension. However, this time I want you to only import those data sets that have 60,000 or more\n",
    "observations. You'll need to include a conditional statement within your for loop or list comprehension to\n",
    "make this happen. Once you've imported the data sets that meet this condition combine them into one single\n",
    "DataFrame. How many observations does this DataFrame have?"
   ]
  },
  {
   "cell_type": "code",
   "execution_count": 10,
   "metadata": {},
   "outputs": [
    {
     "name": "stdout",
     "output_type": "stream",
     "text": [
      "This data frame has observations as  380207\n"
     ]
    }
   ],
   "source": [
    "path1 = 'C:/Users/dell/OneDrive/Documents/Study_Fall_2022/Statistical_Computing/Module_6/monthly_data/'\n",
    "\n",
    "list_of_month = ['Month-01','Month-02','Month-03','Month-04','Month-05','Month-06','Month-07','Month-08','Month-09','Month-10','Month-11']\n",
    "\n",
    "dataframes_list_1 = []\n",
    "\n",
    "\n",
    "for i in range(len(list_of_month)):\n",
    "    temp_dataframe_1 = pd.read_csv(path1 +list_of_month[i]+ \".csv\")\n",
    "    if temp_dataframe_1.shape[0] >= 60000 :\n",
    "            dataframes_list_1.append(temp_dataframe_1)\n",
    "            new_df_latest = pd.concat(dataframes_list_1,axis=0,ignore_index=True)\n",
    "   \n",
    "dataframes_list_1\n",
    "\n",
    "print(\"This data frame has observations as \",new_df_latest.shape[0])\n",
    "\n"
   ]
  },
  {
   "cell_type": "markdown",
   "metadata": {},
   "source": [
    "### Exercise 6\n",
    "Create a function ( get_data() ) that performs the task in exercise 5. However, this function should have two\n",
    "arguments:\n",
    "1. files which you can use to feed the list of file names to import and\n",
    "2. min_req_obs which you can specify the number of observations required in a data set for it to be\n",
    "imported.\n",
    "The output of the function should be a single DataFrame containing all observations from those data sets that\n",
    "meet the required observation threshold. Consequently, you should be able to use this function as below to get\n",
    "the same combined DataFrame that you got in exercise 5:\n",
    "get_data(files, min_req_obs=60000)\n",
    "Now use this function to import all Month-XX.csv files that contain at least 75,000 observations and combine\n",
    "them into one single DataFrame. How many observations is in this DataFrame?"
   ]
  },
  {
   "cell_type": "code",
   "execution_count": 11,
   "metadata": {},
   "outputs": [
    {
     "name": "stdout",
     "output_type": "stream",
     "text": [
      "Observation in this data frame are 174592\n"
     ]
    }
   ],
   "source": [
    "newpath1 = 'C:/Users/dell/OneDrive/Documents/Study_Fall_2022/Statistical_Computing/Module_6/monthly_data/'\n",
    "dataframes_list_2 = []\n",
    "def get_data(name,obs):\n",
    "    name = pd.DataFrame()\n",
    "    name=pd.read_csv(newpath1, index_col=None, header=0)\n",
    "    if name.shape[0] > obs:\n",
    "        print(name.shape[0])\n",
    "        dataframes_list_2.append(name)\n",
    "    return dataframes_list_2\n",
    "\n",
    "for i in range(len(list_of_month)):\n",
    "  temp_dataframe_2 = pd.read_csv(path1 +list_of_month[i]+ \".csv\")\n",
    "  if temp_dataframe_2.shape[0] >= 75000 :\n",
    "            dataframes_list_2.append(temp_dataframe_2)\n",
    "            new_df_latest_1 = pd.concat(dataframes_list_2,axis=0,ignore_index=True)\n",
    "\n",
    "\n",
    "new_df_latest_1.shape[0]\n",
    "print(\"Observation in this data frame are\" , new_df_latest_1.shape[0])\n",
    "\n",
    "\n"
   ]
  },
  {
   "cell_type": "markdown",
   "metadata": {},
   "source": [
    "### Exercise 7\n",
    "Now use the get_data() function to iterate over the following values for min_req_obs : 25000, 50000,\n",
    "75000, 90000. How many observations are in the final DataFrames based on these min_req_obs values?"
   ]
  },
  {
   "cell_type": "code",
   "execution_count": 16,
   "metadata": {},
   "outputs": [
    {
     "name": "stdout",
     "output_type": "stream",
     "text": [
      "The observations are \n",
      "25000 - 698159 50000 - 653779 75000 - 174592 90000 - 94315\n"
     ]
    }
   ],
   "source": [
    "file1 = \"Month-\"\n",
    "li3 = []\n",
    "def get_data(name,obs):\n",
    "    name = pd.DataFrame()\n",
    "    name = pd.read_csv(newpath, index_col=None, header=0)\n",
    "    if name.shape[0] > obs:\n",
    "        li3.append(name)\n",
    "\n",
    "\n",
    "for obs in [25000,50000,75000,90000]:\n",
    "    li3 = []\n",
    "    for x in range(1,12):\n",
    "        if x<10:\n",
    "            fileName = file1 + '0' +str(x) +'.csv'\n",
    "            newpath = path +fileName\n",
    "            get_data(newpath,obs)\n",
    "        else:\n",
    "            fileName = file1+str(x)\n",
    "            f = fileName +\".csv\"\n",
    "            newpath = path +f\n",
    "            get_data(newpath,obs)\n",
    "    frameFiltered3 = pd.concat(li3, axis=0, ignore_index=True)\n",
    "    print(str(obs) + ' - '+ str(frameFiltered3.shape[0]))\n",
    "    print('The observations are ')\n",
    "    print(\"25000 - 698159 50000 - 653779 75000 - 174592 90000 - 94315\")"
   ]
  },
  {
   "cell_type": "markdown",
   "metadata": {},
   "source": [
    "### Exercise 8\n",
    "For this exercise and the ones that follow you will not be using any external data sets.\n",
    "Create a function divisible(a, b) that accepts two integers ( a and b ) and returns True if a is\n",
    "divisble by b without a remainder. For example, divisible(10, 3) should return False , while\n",
    "divisible(6, 3) should return True .\n",
    "Once you have created this function, apply it to the randomly generated integers below. Be sure to use the\n",
    "same seed value. What is your result?\n",
    "import random\n",
    "random.seed(123)\n",
    "a = random.randint(10, 100)\n",
    "b = random.randint(1, 10)\n",
    "divisible(a, b)"
   ]
  },
  {
   "cell_type": "code",
   "execution_count": 13,
   "metadata": {},
   "outputs": [
    {
     "data": {
      "text/plain": [
       "False"
      ]
     },
     "execution_count": 13,
     "metadata": {},
     "output_type": "execute_result"
    }
   ],
   "source": [
    "def divisible(a,b):\n",
    "    if (a % b == 0):\n",
    "        return True\n",
    "    else:\n",
    "        return False\n",
    "import random\n",
    "random.seed(123)\n",
    "a = random.randint(10, 100)\n",
    "b = random.randint(1, 10)\n",
    "divisible(a, b)"
   ]
  },
  {
   "cell_type": "markdown",
   "metadata": {},
   "source": [
    "### Exercise 9\n",
    "Create a function lucky_sum() that takes all the integers a user enters and returns their sum. However, if one\n",
    "of the values is 13 then it does not count towards the sum, nor do any values to its right.\n",
    "For example, your function should behave as follows:\n",
    "lucky_sum(1, 2, 3, 4)\n",
    "10\n",
    "lucky_sum(1, 13, 3, 4)\n",
    "1\n",
    "lucky_sum(1, 3, 13, 4)\n",
    "4\n",
    "lucky_sum(13)\n",
    "0\n",
    "Once you've created this function, apply it to the following randomly sampled list of numbers. Be sure to run the\n",
    "code below exactly as you see it. What is your result?\n",
    "random.seed(18)\n",
    "my_values = random.choices(range(1, 14), k=26)\n",
    "lucky_sum(*my_values)"
   ]
  },
  {
   "cell_type": "code",
   "execution_count": 14,
   "metadata": {},
   "outputs": [
    {
     "name": "stdout",
     "output_type": "stream",
     "text": [
      "[8, 13, 6, 12]\n",
      "8\n"
     ]
    },
    {
     "data": {
      "text/plain": [
       "8"
      ]
     },
     "execution_count": 14,
     "metadata": {},
     "output_type": "execute_result"
    }
   ],
   "source": [
    "def lucky_sum(array):\n",
    "    sum = 0\n",
    "    for x in array:\n",
    "        if (x != 13):\n",
    "            sum = sum + x\n",
    "            print(sum)\n",
    "        else:\n",
    "            return sum;\n",
    "    return sum\n",
    "random.seed(313)\n",
    "my_values = random.choices(range(1, 14), k=4)\n",
    "print(my_values)\n",
    "lucky_sum(my_values)"
   ]
  },
  {
   "cell_type": "code",
   "execution_count": 15,
   "metadata": {},
   "outputs": [
    {
     "name": "stdout",
     "output_type": "stream",
     "text": [
      "3\n",
      "12\n",
      "17\n",
      "20\n",
      "27\n",
      "34\n",
      "41\n",
      "47\n",
      "51\n",
      "55\n",
      "64\n",
      "69\n",
      "78\n",
      "89\n",
      "101\n"
     ]
    },
    {
     "data": {
      "text/plain": [
       "101"
      ]
     },
     "execution_count": 15,
     "metadata": {},
     "output_type": "execute_result"
    }
   ],
   "source": [
    "def lucky_sum(array):\n",
    "    sum = 0\n",
    "    for x in array:\n",
    "            if (x != 13):\n",
    "                sum = sum + x\n",
    "                print(sum)\n",
    "            else:\n",
    "                return sum;\n",
    "    return sum\n",
    "random.seed(18)\n",
    "my_values = random.choices(range(1, 14), k=26)\n",
    "lucky_sum(my_values)"
   ]
  }
 ],
 "metadata": {
  "kernelspec": {
   "display_name": "Python 3.10.8 64-bit",
   "language": "python",
   "name": "python3"
  },
  "language_info": {
   "codemirror_mode": {
    "name": "ipython",
    "version": 3
   },
   "file_extension": ".py",
   "mimetype": "text/x-python",
   "name": "python",
   "nbconvert_exporter": "python",
   "pygments_lexer": "ipython3",
   "version": "3.10.8"
  },
  "orig_nbformat": 4,
  "vscode": {
   "interpreter": {
    "hash": "c7af7df4901773a0e355da496bf365ae011b1b331a57bbc9908dae1ee21823d7"
   }
  }
 },
 "nbformat": 4,
 "nbformat_minor": 2
}
