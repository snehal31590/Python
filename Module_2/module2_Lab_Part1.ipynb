{
 "cells": [
  {
   "cell_type": "markdown",
   "metadata": {},
   "source": [
    "PART 1: "
   ]
  },
  {
   "cell_type": "markdown",
   "metadata": {},
   "source": [
    "<!DOCTYPE html>\n",
    "<html>\n",
    "<head>\n",
    "<h1>Introduction to Me !</h1>\n",
    "</head>\n",
    "<body>\n",
    "\n",
    "\n",
    "\n",
    "<img src=\"https://media-exp1.licdn.com/dms/image/C4D03AQF_JZG81_1Hbg/profile-displayphoto-shrink_200_200/0/1663882283917?e=1671062400&v=beta&t=Yh7io5BSucHCWWAdkeFcDndYKUuVpXEhkGm5FLBHSSM\" alt=\"Snehal Lokhande\" width=\"300\" height=\"300\" style=\"float:left\">\n",
    "<p >\n",
    "Hello! I’m a resourceful and tenacious problem solver,level-headed in chaos,trying to better understand the world through the lens of data science to build \n",
    "strong decision capabilities which is need for solving complex problems. I grew up in Maharashtra India and have also lived in <a href=\"https://en.wikipedia.org/wiki/Pune\">Pune</a> which is closed to Mumbai and now I am in <a href=\"https://www.cincinnati-oh.gov/cityofcincinnati/\">Cincinnati Ohio.</a> </p>\n",
    "\n",
    "<h3><strong> Academic Background</strong></h3>\n",
    "<ul>\n",
    "\n",
    "<li>B.E. in Computer Engineering <a href=\"http://www.unipune.ac.in/\"><i>M.I.T | University of Pune</i></a></li>\n",
    "<li>Currently I am pursuing <a href=\"https://business.uc.edu/academics/specialized-masters/information-systems.html\"><i>Masters in Information Systems from Carl H.Lindner College of Business | University of Cincinnati</i></a></li>\n",
    "\n",
    "</ul>\n",
    "</body>\n",
    "</html>\n",
    "\n",
    "\n",
    "\n",
    "\n"
   ]
  },
  {
   "cell_type": "markdown",
   "metadata": {},
   "source": []
  }
 ],
 "metadata": {
  "kernelspec": {
   "display_name": "Python 3.10.8 64-bit",
   "language": "python",
   "name": "python3"
  },
  "language_info": {
   "name": "python",
   "version": "3.10.8"
  },
  "orig_nbformat": 4,
  "vscode": {
   "interpreter": {
    "hash": "c7af7df4901773a0e355da496bf365ae011b1b331a57bbc9908dae1ee21823d7"
   }
  }
 },
 "nbformat": 4,
 "nbformat_minor": 2
}
